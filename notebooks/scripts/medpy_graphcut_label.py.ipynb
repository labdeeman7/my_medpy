{
 "cells": [
  {
   "cell_type": "code",
   "execution_count": 1,
   "metadata": {},
   "outputs": [],
   "source": [
    "from medpy.io import load\n",
    "import matplotlib.pyplot as plt\n",
    "import matplotlib.cm as cm\n",
    "\n",
    "%matplotlib inline"
   ]
  },
  {
   "cell_type": "markdown",
   "metadata": {},
   "source": [
    "Where the usual graphcut constructs a graph out of the image's voxels, the label graphcut used irregular regions instead. This reduces memory consumption, accelerates the execution and leads mostly to better results.\n",
    "\n",
    "<table>\n",
    "<tr>\n",
    "<td><img alt=\"\" src=\"images/b0.png\" width=\"200\" /></td>\n",
    "<td><img alt=\"\" src=\"images/b0wmarker.png\" width=\"200\" /></td>\n",
    "</tr>\n",
    "<tr>\n",
    "<td>Original image</td>\n",
    "<td>Foreground (red) and background (green) marker on original image</td>\n",
    "</tr>\n",
    "</table>\n",
    "\n",
    "Let's assume we want to segment the ventricles in a brain scan (left image). First, we need some markers for foreground (red) and background (green). These can be seen in the right image and are usually either created manually or by another algorithm."
   ]
  },
  {
   "cell_type": "markdown",
   "metadata": {},
   "source": [
    "## Creating the region image\n"
   ]
  },
  {
   "cell_type": "markdown",
   "metadata": {},
   "source": [
    "The label graphcut requires a region image. **MedPy** supplies the required functionalities. First, we create a gradient magnitude version of our original image with"
   ]
  },
  {
   "cell_type": "code",
   "execution_count": 2,
   "metadata": {},
   "outputs": [],
   "source": [
    "!medpy_gradient.py resources/b0.nii.gz output/gradient.nii.gz -f"
   ]
  },
  {
   "cell_type": "markdown",
   "metadata": {},
   "source": [
    "Which we then feed to the watershed algorithm"
   ]
  },
  {
   "cell_type": "code",
   "execution_count": 8,
   "metadata": {},
   "outputs": [],
   "source": [
    "!medpy_watershed.py output/gradient.nii.gz output/watershed.nii.gz --mindist 10 -f"
   ]
  },
  {
   "cell_type": "markdown",
   "metadata": {},
   "source": [
    "Note that this script requires the `skimage` package, which can be installed with `pip install scikit-image`."
   ]
  },
  {
   "cell_type": "markdown",
   "metadata": {},
   "source": [
    "Visually, the result process like this\n",
    "<table>\n",
    "<tr>\n",
    "<td><img alt=\"Original image\" src=\"images/b0.png\" width=\"200\" /></td>\n",
    "<td><img alt=\"Region image\" src=\"images/b0gradient.png\" width=\"200\" /></td>\n",
    "<td><img alt=\"Region image\" src=\"images/watershed.png\" width=\"200\" /></td>\n",
    "<td><img alt=\"Region image (colored)\" src=\"images/watershed_colored.png\" width=\"200\" /></td>\n",
    "</tr>\n",
    "<tr>\n",
    "<td>Original image</td>\n",
    "<td>Gradient image</td>\n",
    "<td>Region image</td>\n",
    "<td>Region image (colored)</td>\n",
    "</tr>\n",
    "</table>"
   ]
  },
  {
   "cell_type": "markdown",
   "metadata": {},
   "source": [
    "## Performing the graphcut"
   ]
  },
  {
   "cell_type": "markdown",
   "metadata": {},
   "source": [
    "Now we just have to supply our images to the script"
   ]
  },
  {
   "cell_type": "code",
   "execution_count": 6,
   "metadata": {},
   "outputs": [],
   "source": [
    "!medpy_graphcut_label.py output/gradient.nii.gz output/watershed.nii.gz resources/b0markers.nii.gz output/graphcut_label.nii.gz --boundary=stawiaski"
   ]
  },
  {
   "cell_type": "markdown",
   "metadata": {},
   "source": [
    "And, after some waiting time, we obtain\n",
    "<img alt=\"\" src=\"images/b0gclabelstawiaski.png\" width=\"300\" />"
   ]
  },
  {
   "cell_type": "markdown",
   "metadata": {},
   "source": [
    ", which is a pretty good approximation of the ventricles visible in the brain scan."
   ]
  },
  {
   "cell_type": "code",
   "execution_count": 7,
   "metadata": {},
   "outputs": [
    {
     "data": {
      "text/plain": [
       "<matplotlib.image.AxesImage at 0x7f4abbc7ee00>"
      ]
     },
     "execution_count": 7,
     "metadata": {},
     "output_type": "execute_result"
    },
    {
     "data": {
      "image/png": "[encoded data removed]",
      "text/plain": [
       "<Figure size 640x480 with 1 Axes>"
      ]
     },
     "metadata": {},
     "output_type": "display_data"
    }
   ],
   "source": [
    "o, _ = load(\"output/graphcut_label.nii.gz\")\n",
    "plt.imshow(o, cmap = cm.Greys_r)"
   ]
  },
  {
   "cell_type": "code",
   "execution_count": null,
   "metadata": {},
   "outputs": [],
   "source": []
  }
 ],
 "metadata": {
  "kernelspec": {
   "display_name": "Python 3 (ipykernel)",
   "language": "python",
   "name": "python3"
  },
  "language_info": {
   "codemirror_mode": {
    "name": "ipython",
    "version": 3
   },
   "file_extension": ".py",
   "mimetype": "text/x-python",
   "name": "python",
   "nbconvert_exporter": "python",
   "pygments_lexer": "ipython3",
   "version": "3.10.12"
  }
 },
 "nbformat": 4,
 "nbformat_minor": 4
}
