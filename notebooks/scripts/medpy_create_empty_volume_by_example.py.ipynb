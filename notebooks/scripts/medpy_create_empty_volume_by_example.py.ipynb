{
 "cells": [
  {
   "cell_type": "markdown",
   "metadata": {},
   "source": [
    "Simple script to create an empty volume by taking the metadata from an example image."
   ]
  },
  {
   "cell_type": "code",
   "execution_count": 2,
   "metadata": {},
   "outputs": [],
   "source": [
    "!medpy_create_empty_volume_by_example.py resources/flair.nii.gz output/empty.nii.gz"
   ]
  },
  {
   "cell_type": "markdown",
   "metadata": {},
   "source": [
    "Let's compare the metadata."
   ]
  },
  {
   "cell_type": "code",
   "execution_count": 3,
   "metadata": {},
   "outputs": [
    {
     "name": "stdout",
     "output_type": "stream",
     "text": [
      "\n",
      "Informations obtained from image header:\n",
      "header type=<class 'medpy.io.header.Header'>\n",
      "voxel spacing=(1.0, 1.0)\n",
      "offset=(0.0, 0.0)\n",
      "\n",
      "Informations obtained from image array:\n",
      "datatype=float32,dimensions=2,shape=(181, 217)\n",
      "first and last element: 0.0 / 0.0\n"
     ]
    }
   ],
   "source": [
    "!medpy_info.py resources/flair.nii.gz"
   ]
  },
  {
   "cell_type": "code",
   "execution_count": 4,
   "metadata": {},
   "outputs": [
    {
     "name": "stdout",
     "output_type": "stream",
     "text": [
      "\n",
      "Informations obtained from image header:\n",
      "header type=<class 'medpy.io.header.Header'>\n",
      "voxel spacing=(1.0, 1.0)\n",
      "offset=(0.0, 0.0)\n",
      "\n",
      "Informations obtained from image array:\n",
      "datatype=float32,dimensions=2,shape=(181, 217)\n",
      "first and last element: 0.0 / 0.0\n"
     ]
    }
   ],
   "source": [
    "!medpy_info.py output/empty.nii.gz"
   ]
  },
  {
   "cell_type": "markdown",
   "metadata": {},
   "source": [
    "The metadata is identical. But they do differ in every (non-zero) voxel."
   ]
  },
  {
   "cell_type": "code",
   "execution_count": 5,
   "metadata": {},
   "outputs": [
    {
     "name": "stdout",
     "output_type": "stream",
     "text": [
      "Voxel differ: 16453 of 39277 total voxels\n",
      "Max difference: 51866.8203125\n"
     ]
    }
   ],
   "source": [
    "!medpy_diff.py resources/flair.nii.gz output/empty.nii.gz"
   ]
  },
  {
   "cell_type": "code",
   "execution_count": null,
   "metadata": {
    "collapsed": true,
    "jupyter": {
     "outputs_hidden": true
    }
   },
   "outputs": [],
   "source": []
  }
 ],
 "metadata": {
  "kernelspec": {
   "display_name": "Python 3 (ipykernel)",
   "language": "python",
   "name": "python3"
  },
  "language_info": {
   "codemirror_mode": {
    "name": "ipython",
    "version": 3
   },
   "file_extension": ".py",
   "mimetype": "text/x-python",
   "name": "python",
   "nbconvert_exporter": "python",
   "pygments_lexer": "ipython3",
   "version": "3.10.12"
  }
 },
 "nbformat": 4,
 "nbformat_minor": 4
}
